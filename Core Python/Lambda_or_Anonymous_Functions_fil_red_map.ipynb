{
  "nbformat": 4,
  "nbformat_minor": 0,
  "metadata": {
    "colab": {
      "provenance": []
    },
    "kernelspec": {
      "name": "python3",
      "display_name": "Python 3"
    },
    "language_info": {
      "name": "python"
    }
  },
  "cells": [
    {
      "cell_type": "markdown",
      "source": [
        "# Lambda Function/Anonymous Functions: A function without a function name."
      ],
      "metadata": {
        "id": "7PZizGFInOra"
      }
    },
    {
      "cell_type": "code",
      "execution_count": 1,
      "metadata": {
        "id": "pj-ilShInGbx"
      },
      "outputs": [],
      "source": [
        "# Normal function\n",
        "def display(): # function name is display\n",
        "  print(\"Hello\")"
      ]
    },
    {
      "cell_type": "code",
      "source": [
        "display()\n",
        "display()\n",
        "display()"
      ],
      "metadata": {
        "colab": {
          "base_uri": "https://localhost:8080/"
        },
        "id": "eRZMqRrenxdP",
        "outputId": "92eaeeab-21e3-4b49-bdbe-26303edb647b"
      },
      "execution_count": 2,
      "outputs": [
        {
          "output_type": "stream",
          "name": "stdout",
          "text": [
            "Hello\n",
            "Hello\n",
            "Hello\n"
          ]
        }
      ]
    },
    {
      "cell_type": "markdown",
      "source": [
        "## Conclusion: We can call normal function any no of times we want. But Lambda function is used instantly for single time."
      ],
      "metadata": {
        "id": "0Tu8F5b0n2KL"
      }
    },
    {
      "cell_type": "code",
      "source": [
        "def display(num):\n",
        "  x=num+num\n",
        "  y=num-num\n",
        "  z=num*num"
      ],
      "metadata": {
        "id": "Fzgv7Qczn1AH"
      },
      "execution_count": 3,
      "outputs": []
    },
    {
      "cell_type": "markdown",
      "source": [
        "# Conclusion: Normal function can have any no of lines. But lambda function is written in a single line."
      ],
      "metadata": {
        "id": "KB8d8MgBolLn"
      }
    },
    {
      "cell_type": "code",
      "source": [
        "def add(x,y):\n",
        "  return (x+y)"
      ],
      "metadata": {
        "id": "6-fnnxwEohxL"
      },
      "execution_count": 4,
      "outputs": []
    },
    {
      "cell_type": "code",
      "source": [
        "print(add(10,5))"
      ],
      "metadata": {
        "colab": {
          "base_uri": "https://localhost:8080/"
        },
        "id": "xSVy-bZTpGh5",
        "outputId": "97cf605f-8087-46e2-bb44-71b54e6d8985"
      },
      "execution_count": 5,
      "outputs": [
        {
          "output_type": "stream",
          "name": "stdout",
          "text": [
            "15\n"
          ]
        }
      ]
    },
    {
      "cell_type": "markdown",
      "source": [
        "Syntax to create a normal function:\n",
        "- keyword(def) function_name(parameters): return value"
      ],
      "metadata": {
        "id": "8b7LJIlKpPWa"
      }
    },
    {
      "cell_type": "markdown",
      "source": [
        "Syntax to create lambda function:\n",
        "- keyword(lambda) parameters: return value"
      ],
      "metadata": {
        "id": "D--wkkR9pggz"
      }
    },
    {
      "cell_type": "code",
      "source": [
        "# Lambda function to add 2 numbers:\n",
        "output=lambda x,y: x+y"
      ],
      "metadata": {
        "id": "wGNNsTAOpKGN"
      },
      "execution_count": 7,
      "outputs": []
    },
    {
      "cell_type": "code",
      "source": [
        "print(output(2,5))"
      ],
      "metadata": {
        "colab": {
          "base_uri": "https://localhost:8080/"
        },
        "id": "fLTskOcNqNcG",
        "outputId": "ae3c3ce3-1efc-480b-f504-6a4cf34ba5f9"
      },
      "execution_count": 8,
      "outputs": [
        {
          "output_type": "stream",
          "name": "stdout",
          "text": [
            "7\n"
          ]
        }
      ]
    },
    {
      "cell_type": "code",
      "source": [
        "(lambda x,y:x-y)(2,3)"
      ],
      "metadata": {
        "colab": {
          "base_uri": "https://localhost:8080/"
        },
        "id": "A8-Fte2hqW2G",
        "outputId": "2ee2f04b-c164-4985-de5c-b78376f6c98d"
      },
      "execution_count": 9,
      "outputs": [
        {
          "output_type": "execute_result",
          "data": {
            "text/plain": [
              "-1"
            ]
          },
          "metadata": {},
          "execution_count": 9
        }
      ]
    },
    {
      "cell_type": "markdown",
      "source": [
        "Q. Write a program to return max of two numbers using lambda function?"
      ],
      "metadata": {
        "id": "rOoIGeQZrKpf"
      }
    },
    {
      "cell_type": "code",
      "source": [
        "max=lambda x,y: x if x>y else y"
      ],
      "metadata": {
        "id": "aypenubDqkLN"
      },
      "execution_count": 10,
      "outputs": []
    },
    {
      "cell_type": "code",
      "source": [
        "max(2,3)"
      ],
      "metadata": {
        "colab": {
          "base_uri": "https://localhost:8080/"
        },
        "id": "Y1TzyIOarzyD",
        "outputId": "8da15654-3717-4eb7-d402-c0f3c9f4e4c2"
      },
      "execution_count": 11,
      "outputs": [
        {
          "output_type": "execute_result",
          "data": {
            "text/plain": [
              "3"
            ]
          },
          "metadata": {},
          "execution_count": 11
        }
      ]
    },
    {
      "cell_type": "code",
      "source": [
        "max(-1,0)"
      ],
      "metadata": {
        "colab": {
          "base_uri": "https://localhost:8080/"
        },
        "id": "qNcyl4Rwr2T6",
        "outputId": "6cd3e268-b62b-4690-be55-2e1b853afba3"
      },
      "execution_count": 12,
      "outputs": [
        {
          "output_type": "execute_result",
          "data": {
            "text/plain": [
              "0"
            ]
          },
          "metadata": {},
          "execution_count": 12
        }
      ]
    },
    {
      "cell_type": "markdown",
      "source": [
        "Q. Write a program to return even or odd number using lambda function?"
      ],
      "metadata": {
        "id": "7yOHkl2AsPEU"
      }
    },
    {
      "cell_type": "code",
      "source": [
        "x=lambda num: \"Even Number\" if num%2==0 else \"Odd Number\"\n",
        "x(7)"
      ],
      "metadata": {
        "colab": {
          "base_uri": "https://localhost:8080/",
          "height": 35
        },
        "id": "oAsiOBlvr6x8",
        "outputId": "a8730880-f4fb-4538-e6d6-aced937a9360"
      },
      "execution_count": 13,
      "outputs": [
        {
          "output_type": "execute_result",
          "data": {
            "text/plain": [
              "'Odd Number'"
            ],
            "application/vnd.google.colaboratory.intrinsic+json": {
              "type": "string"
            }
          },
          "metadata": {},
          "execution_count": 13
        }
      ]
    },
    {
      "cell_type": "markdown",
      "source": [
        "#### filter( ), map( ), reduce( ) in Python."
      ],
      "metadata": {
        "id": "iMNsbMpKvpQV"
      }
    },
    {
      "cell_type": "markdown",
      "source": [
        "##### filter( ) --> filter the list and give the some output that we need wrt to condition\n",
        "##### map( ) --> [1,2,3,4,5] => [1,4,9,16,25](complete list returned again)\n",
        "##### reduce( ) --> [1,2,3,4,5,6,7] => Finally single output"
      ],
      "metadata": {
        "id": "a8xrTy--wyrh"
      }
    },
    {
      "cell_type": "markdown",
      "source": [
        "# filter( )"
      ],
      "metadata": {
        "id": "2kmBG2qT5uyQ"
      }
    },
    {
      "cell_type": "code",
      "source": [
        "lst1=[1,2,3,4,5,6,7,8,9]\n",
        "even=[]\n",
        "for value in lst1:\n",
        "  if value%2==0:\n",
        "    even.append(value)\n",
        "print(even)"
      ],
      "metadata": {
        "colab": {
          "base_uri": "https://localhost:8080/"
        },
        "id": "ImgXEVU3voz5",
        "outputId": "0f481c59-5c7a-47ec-cd24-95b820469488"
      },
      "execution_count": 15,
      "outputs": [
        {
          "output_type": "stream",
          "name": "stdout",
          "text": [
            "[2, 4, 6, 8]\n"
          ]
        }
      ]
    },
    {
      "cell_type": "code",
      "source": [
        "lst2=[1,2,3,4,5,6,7,8,9]\n",
        "\n",
        "op=filter(lambda x: x%2==0,lst2) # 1st parameter -> function, 2nd parameter -> iterable object\n",
        "print(op)"
      ],
      "metadata": {
        "colab": {
          "base_uri": "https://localhost:8080/"
        },
        "id": "DBvMRtjzvGcf",
        "outputId": "58c32a5f-f867-4ac8-ec91-2793923c999b"
      },
      "execution_count": 16,
      "outputs": [
        {
          "output_type": "stream",
          "name": "stdout",
          "text": [
            "<filter object at 0x7c3a6f551c60>\n"
          ]
        }
      ]
    },
    {
      "cell_type": "code",
      "source": [
        "print(list(op))"
      ],
      "metadata": {
        "colab": {
          "base_uri": "https://localhost:8080/"
        },
        "id": "4UJEs9orz3vv",
        "outputId": "178de73f-8ec5-49bd-98ba-3ae2a692f9ef"
      },
      "execution_count": 17,
      "outputs": [
        {
          "output_type": "stream",
          "name": "stdout",
          "text": [
            "[2, 4, 6, 8]\n"
          ]
        }
      ]
    },
    {
      "cell_type": "code",
      "source": [
        "names =['Vamsi','Ram','Charan','','','Ravi','']\n",
        "# filter function iterates the entire list and return the output wrt condition(true)\n",
        "output2=list(filter(lambda x: x!='',names))\n",
        "print(output2)"
      ],
      "metadata": {
        "colab": {
          "base_uri": "https://localhost:8080/"
        },
        "id": "BdgUbug80I05",
        "outputId": "65507325-6c73-42f3-a365-0bcdf54e06ef"
      },
      "execution_count": 18,
      "outputs": [
        {
          "output_type": "stream",
          "name": "stdout",
          "text": [
            "['Vamsi', 'Ram', 'Charan', 'Ravi']\n"
          ]
        }
      ]
    },
    {
      "cell_type": "markdown",
      "source": [
        "# map( )"
      ],
      "metadata": {
        "id": "_09QHkep5hFM"
      }
    },
    {
      "cell_type": "code",
      "source": [
        "# map()\n",
        "tuple=(1,2,3,4,5,6,7,8,9,10)\n",
        "print(list(map(lambda x:x**2,tuple)))"
      ],
      "metadata": {
        "colab": {
          "base_uri": "https://localhost:8080/"
        },
        "id": "HYC5-6o42BEU",
        "outputId": "1e14ff48-7fa8-4f4c-a20f-b7716c02a4c4"
      },
      "execution_count": 23,
      "outputs": [
        {
          "output_type": "stream",
          "name": "stdout",
          "text": [
            "[1, 4, 9, 16, 25, 36, 49, 64, 81, 100]\n"
          ]
        }
      ]
    },
    {
      "cell_type": "code",
      "source": [
        "list1=[1,2,3,4,5,6,7,8,9,10]\n",
        "list2=[1,2,3,4,5,6,7,8,9,10]\n",
        "print(list(map(lambda x,y:x+y,list1,list2)))"
      ],
      "metadata": {
        "colab": {
          "base_uri": "https://localhost:8080/"
        },
        "id": "8-SZm9xy5-sq",
        "outputId": "cea9be0d-cb1b-4673-a71c-30c5e5d52690"
      },
      "execution_count": 25,
      "outputs": [
        {
          "output_type": "stream",
          "name": "stdout",
          "text": [
            "[2, 4, 6, 8, 10, 12, 14, 16, 18, 20]\n"
          ]
        }
      ]
    },
    {
      "cell_type": "markdown",
      "source": [
        "# reduce( ) -> accepts min 2 parameters"
      ],
      "metadata": {
        "id": "cWk1FWGV66u_"
      }
    },
    {
      "cell_type": "code",
      "source": [
        "from functools import reduce"
      ],
      "metadata": {
        "id": "39j_1W3y61WO"
      },
      "execution_count": 26,
      "outputs": []
    },
    {
      "cell_type": "code",
      "source": [
        "set1={1,2,3,4,5,6,7,8,9,10}\n",
        "print(reduce(lambda x,y:x+y,set1)) # gives single output"
      ],
      "metadata": {
        "colab": {
          "base_uri": "https://localhost:8080/"
        },
        "id": "1vyQuJd37TD0",
        "outputId": "086fa4c2-6b0a-4edb-e398-fdeb973272ab"
      },
      "execution_count": 27,
      "outputs": [
        {
          "output_type": "stream",
          "name": "stdout",
          "text": [
            "55\n"
          ]
        }
      ]
    },
    {
      "cell_type": "markdown",
      "source": [
        "#####Write a Python program to remove specific words from a given list using lambda.\n",
        "#####Original list:\n",
        "#####['orange', 'red', 'green', 'blue', 'white', 'black']\n",
        "#####Remove words:\n",
        "#####['orange', 'black']\n",
        "#####After removing the specified words from the said list:\n",
        "#####['red', 'green', 'blue', 'white']"
      ],
      "metadata": {
        "id": "lFINQyF_8tGU"
      }
    },
    {
      "cell_type": "code",
      "source": [
        "def remove_words(list3,remove_words):\n",
        "  result=list(filter(lambda x: x not in remove_words,list3))\n",
        "  return result\n",
        "\n",
        "print(remove_words(['orange', 'red', 'green', 'blue', 'white', 'black'],['orange', 'black']))"
      ],
      "metadata": {
        "colab": {
          "base_uri": "https://localhost:8080/"
        },
        "id": "uveh5_567zxM",
        "outputId": "872a3b78-2464-42e4-e9ab-67667bb4915b"
      },
      "execution_count": 30,
      "outputs": [
        {
          "output_type": "stream",
          "name": "stdout",
          "text": [
            "['red', 'green', 'blue', 'white']\n"
          ]
        }
      ]
    },
    {
      "cell_type": "markdown",
      "source": [
        "###### For practice: https://www.w3resource.com/python-exercises/lambda/index.php"
      ],
      "metadata": {
        "id": "vyFNZWjJ_xGf"
      }
    },
    {
      "cell_type": "code",
      "source": [],
      "metadata": {
        "id": "Pj6vaViE-six"
      },
      "execution_count": null,
      "outputs": []
    }
  ]
}