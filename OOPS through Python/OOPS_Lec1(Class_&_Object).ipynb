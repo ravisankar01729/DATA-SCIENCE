{
  "nbformat": 4,
  "nbformat_minor": 0,
  "metadata": {
    "colab": {
      "provenance": []
    },
    "kernelspec": {
      "name": "python3",
      "display_name": "Python 3"
    },
    "language_info": {
      "name": "python"
    }
  },
  "cells": [
    {
      "cell_type": "markdown",
      "source": [
        "# Object Oriented Programming:\n",
        "- Every thing in python is an object.\n",
        "- Generality(procedural code) to Specificity(programmer can create own data types according to use of his application).\n",
        "- Principles of OOPS -> classes, objects, Polymorphism, Encapsulation,\n",
        " Abstraction, Inheritence.\n",
        "- Class is a blueprint -> set of rules that how the object of the class behaves and follows.\n",
        "- Eg: Mobile_Phone is a class, but Samsung is a object\n",
        "- Class -> Data/property, Function/behavior\n",
        "- Object is an instance of class\n",
        "- Syntax to create an object -> object_name=class_name()\n",
        "- Eg: s=string( ), l=list( )"
      ],
      "metadata": {
        "id": "xSHBYZOfFB2E"
      }
    },
    {
      "cell_type": "markdown",
      "source": [
        "Pascal Case: HelloWorld, class name is written in Pascal case"
      ],
      "metadata": {
        "id": "4Mlxf596OJEy"
      }
    },
    {
      "cell_type": "code",
      "source": [
        "class Atm:\n",
        "\n",
        "  # constructor( Special function inside a class). All variables are written inside constructor\n",
        "  # Isko execute karne keliye explicitly call karney ki jaroorat nahi. Jab ish class ka object banayoge,automatically constructor executes\n",
        "  def __init__(self):\n",
        "    self.pin=''\n",
        "    self.balance=0\n",
        "    self.menu() # yek method ko dhoosrey method se call karney keliye self object ki help lena padega\n",
        "\n",
        "  def menu(self):\n",
        "    user_input=input(\"\"\"\n",
        "    Hi how can I help you?\n",
        "    1. Press 1 to create pin\n",
        "    2. Press 2 to change pin\n",
        "    3. Press 3 to check balance\n",
        "    4. Press 4 to withdraw\n",
        "    5. Anything else to exit\n",
        "    \"\"\")\n",
        "    if user_input=='1':\n",
        "      self.create_pin()\n",
        "      # create pin\n",
        "    elif user_input=='2':\n",
        "      # change pin\n",
        "      self.change_pin()\n",
        "    elif user_input=='3':\n",
        "      # check balance\n",
        "      self.check_balance()\n",
        "    elif user_input=='4':\n",
        "      # withdraw\n",
        "      self.withdraw()\n",
        "      pass\n",
        "    else:\n",
        "      exit()\n",
        "\n",
        "  def create_pin(self):\n",
        "    user_pin=input('Enter your pin')\n",
        "    self.pin=user_pin\n",
        "\n",
        "    user_balance=int(input(\"Enter your balance\"))\n",
        "    self.balance=user_balance\n",
        "\n",
        "    print(\"Pin set successfully!\")\n",
        "    self.menu()\n",
        "\n",
        "  def change_pin(self):\n",
        "    old_pin=input(\"Enter old pin\")\n",
        "    if old_pin==self.pin:\n",
        "      new_pin=input(\"Enter new pin\")\n",
        "      self.pin=new_pin\n",
        "      print(\"Pin changed Sucessfully!\")\n",
        "    else:\n",
        "      print(\"Incorrect pin!\")\n",
        "\n",
        "    self.menu()\n",
        "\n",
        "  def check_balance(self):\n",
        "    user_pin=input(\"Enter pin:\")\n",
        "    if user_pin==self.pin:\n",
        "      print(\"Your balance is: \",self.balance)\n",
        "    else:\n",
        "      print(\"Invalid Pin!\")\n",
        "\n",
        "    self.menu()\n",
        "\n",
        "  def withdraw(self):\n",
        "    user_pin=input(\"Enter your pin: \")\n",
        "    if user_pin==self.pin:\n",
        "      amnt=int(input(\"Enter withdraw amount:\"))\n",
        "      if amnt<self.balance:\n",
        "        self.balance=self.balance-amnt\n",
        "        print(\"Withdrwal sucessful, your current balance is :\",self.balance)\n",
        "      else:\n",
        "        print(\"Insufficient balance!\")\n",
        "    else:\n",
        "      print(\"Invalid password\")\n",
        "\n",
        "    self.menu()"
      ],
      "metadata": {
        "id": "_OLT3AawLSYl"
      },
      "execution_count": 1,
      "outputs": []
    },
    {
      "cell_type": "code",
      "source": [
        "obj=Atm()"
      ],
      "metadata": {
        "colab": {
          "base_uri": "https://localhost:8080/"
        },
        "id": "FFbfnAg_PNIa",
        "outputId": "bc6cb0e4-170e-4d77-8a66-242faaa63d61"
      },
      "execution_count": 2,
      "outputs": [
        {
          "name": "stdout",
          "output_type": "stream",
          "text": [
            "\n",
            "    Hi how can I help you?\n",
            "    1. Press 1 to create pin\n",
            "    2. Press 2 to change pin\n",
            "    3. Press 3 to check balance\n",
            "    4. Press 4 to withdraw\n",
            "    5. Anything else to exit\n",
            "    1\n",
            "Enter your pin1234\n",
            "Enter your balance10000\n",
            "Pin set successfully!\n",
            "\n",
            "    Hi how can I help you?\n",
            "    1. Press 1 to create pin\n",
            "    2. Press 2 to change pin\n",
            "    3. Press 3 to check balance\n",
            "    4. Press 4 to withdraw\n",
            "    5. Anything else to exit\n",
            "    3\n",
            "Enter pin:1234\n",
            "Your balance is:  10000\n",
            "\n",
            "    Hi how can I help you?\n",
            "    1. Press 1 to create pin\n",
            "    2. Press 2 to change pin\n",
            "    3. Press 3 to check balance\n",
            "    4. Press 4 to withdraw\n",
            "    5. Anything else to exit\n",
            "    4\n",
            "Enter your pin: 123\n",
            "Invalid password\n",
            "\n",
            "    Hi how can I help you?\n",
            "    1. Press 1 to create pin\n",
            "    2. Press 2 to change pin\n",
            "    3. Press 3 to check balance\n",
            "    4. Press 4 to withdraw\n",
            "    5. Anything else to exit\n",
            "    4\n",
            "Enter your pin: 1234\n",
            "Enter withdraw amount:15000\n",
            "Insufficient balance!\n",
            "\n",
            "    Hi how can I help you?\n",
            "    1. Press 1 to create pin\n",
            "    2. Press 2 to change pin\n",
            "    3. Press 3 to check balance\n",
            "    4. Press 4 to withdraw\n",
            "    5. Anything else to exit\n",
            "    4\n",
            "Enter your pin: 1234\n",
            "Enter withdraw amount:8000\n",
            "Withdrwal sucessful, your current balance is : 2000\n",
            "\n",
            "    Hi how can I help you?\n",
            "    1. Press 1 to create pin\n",
            "    2. Press 2 to change pin\n",
            "    3. Press 3 to check balance\n",
            "    4. Press 4 to withdraw\n",
            "    5. Anything else to exit\n",
            "    5\n"
          ]
        }
      ]
    },
    {
      "cell_type": "code",
      "source": [
        "print(type(obj))"
      ],
      "metadata": {
        "colab": {
          "base_uri": "https://localhost:8080/"
        },
        "id": "KbN9MUmDPXgI",
        "outputId": "f80e6fe3-7157-4c0e-92c8-f77d40279adc"
      },
      "execution_count": 3,
      "outputs": [
        {
          "output_type": "stream",
          "name": "stdout",
          "text": [
            "<class '__main__.Atm'>\n"
          ]
        }
      ]
    },
    {
      "cell_type": "markdown",
      "source": [
        "# Agar koi function class ke andhar hei vo method bola jatha hei."
      ],
      "metadata": {
        "id": "KNLJTbnTeCSM"
      }
    },
    {
      "cell_type": "code",
      "source": [
        "l=[1,2,3,4]\n",
        "len(l) # len()->function ->because it is outside the list class\n",
        "l.append(5) # append()->method ->because it is insidde the list class"
      ],
      "metadata": {
        "id": "_1bepodDPbLh"
      },
      "execution_count": 1,
      "outputs": []
    },
    {
      "cell_type": "markdown",
      "source": [
        "# Magic Methods"
      ],
      "metadata": {
        "id": "QSlE9OSvgEEG"
      }
    },
    {
      "cell_type": "code",
      "source": [
        "class Temp:\n",
        "  def __init__(self):\n",
        "    print(\"Hello!\")"
      ],
      "metadata": {
        "id": "proP2OXjgHRT"
      },
      "execution_count": 2,
      "outputs": []
    },
    {
      "cell_type": "code",
      "source": [
        "obj=Temp()"
      ],
      "metadata": {
        "colab": {
          "base_uri": "https://localhost:8080/"
        },
        "id": "LzonY_C_hFNl",
        "outputId": "8bb5c192-fabf-4c8d-f2d0-af816166acfb"
      },
      "execution_count": 3,
      "outputs": [
        {
          "output_type": "stream",
          "name": "stdout",
          "text": [
            "Hello!\n"
          ]
        }
      ]
    },
    {
      "cell_type": "markdown",
      "source": [
        "### How constructor is useful to programmer?\n",
        "#### Ans: Used to write configuration(Eg: application to connect to database) related code. User ki control mey nahi hoga"
      ],
      "metadata": {
        "id": "_o4q0Dz5hMTV"
      }
    },
    {
      "cell_type": "markdown",
      "source": [
        "### self -> default parameter in all methods.\n",
        "### Golden rule of OOP: class(attr,methods),objects. Apkey class ke members ko sirf us class ka object hie access kar saktha hei\n",
        "### koyi method se dhoora method call karney keliye self use hotha hei\n",
        "\n",
        "# Finally self is an object"
      ],
      "metadata": {
        "id": "6xLGPUUYjaC-"
      }
    },
    {
      "cell_type": "code",
      "source": [
        "class SelfUse:\n",
        "  def __init__(self):\n",
        "    print(\"Memory address of self object:\",id(self))\n",
        "\n",
        "obj=SelfUse()"
      ],
      "metadata": {
        "colab": {
          "base_uri": "https://localhost:8080/"
        },
        "id": "eqpgnbUthIFr",
        "outputId": "befd37b7-6c56-4ec7-aaad-643b80625245"
      },
      "execution_count": 5,
      "outputs": [
        {
          "output_type": "stream",
          "name": "stdout",
          "text": [
            "Memory address of self object: 138443672845616\n"
          ]
        }
      ]
    },
    {
      "cell_type": "code",
      "source": [
        "print(id(obj))"
      ],
      "metadata": {
        "colab": {
          "base_uri": "https://localhost:8080/"
        },
        "id": "k_taWC35mQES",
        "outputId": "25f12acf-e25c-44cc-f224-fac3affd56b4"
      },
      "execution_count": 6,
      "outputs": [
        {
          "output_type": "stream",
          "name": "stdout",
          "text": [
            "138443672845616\n"
          ]
        }
      ]
    },
    {
      "cell_type": "markdown",
      "source": [
        "self and above obj object points to same address. Which means self and current obj are same. this in java and self in python both are same"
      ],
      "metadata": {
        "id": "jiKp2SyYmvLB"
      }
    },
    {
      "cell_type": "code",
      "source": [],
      "metadata": {
        "id": "PndRIMVYrfcp"
      },
      "execution_count": null,
      "outputs": []
    }
  ]
}